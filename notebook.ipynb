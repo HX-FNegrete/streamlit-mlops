{
 "cells": [
  {
   "cell_type": "code",
   "execution_count": 22,
   "metadata": {},
   "outputs": [],
   "source": [
    "import pandas as pd\n",
    "import seaborn as sns\n",
    "import matplotlib.pyplot as plt"
   ]
  },
  {
   "cell_type": "markdown",
   "metadata": {},
   "source": [
    "### Métodos para conocer composición del DataFrame"
   ]
  },
  {
   "cell_type": "code",
   "execution_count": 3,
   "metadata": {},
   "outputs": [
    {
     "name": "stdout",
     "output_type": "stream",
     "text": [
      "   Unnamed: 0                                          Job Title  \\\n",
      "0           0  Data Analyst, Center on Immigration and Justic...   \n",
      "1           1                               Quality Data Analyst   \n",
      "2           2  Senior Data Analyst, Insights & Analytics Team...   \n",
      "3           3                                       Data Analyst   \n",
      "4           4                             Reporting Data Analyst   \n",
      "\n",
      "              Salary Estimate  \\\n",
      "0  $37K-$66K (Glassdoor est.)   \n",
      "1  $37K-$66K (Glassdoor est.)   \n",
      "2  $37K-$66K (Glassdoor est.)   \n",
      "3  $37K-$66K (Glassdoor est.)   \n",
      "4  $37K-$66K (Glassdoor est.)   \n",
      "\n",
      "                                     Job Description  Rating  \\\n",
      "0  Are you eager to roll up your sleeves and harn...     3.2   \n",
      "1  Overview\\n\\nProvides analytical and technical ...     3.8   \n",
      "2  We’re looking for a Senior Data Analyst who ha...     3.4   \n",
      "3  Requisition NumberRR-0001939\\nRemote:Yes\\nWe c...     4.1   \n",
      "4  ABOUT FANDUEL GROUP\\n\\nFanDuel Group is a worl...     3.9   \n",
      "\n",
      "                              Company Name      Location  Headquarters  \\\n",
      "0           Vera Institute of Justice\\n3.2  New York, NY  New York, NY   \n",
      "1  Visiting Nurse Service of New York\\n3.8  New York, NY  New York, NY   \n",
      "2                         Squarespace\\n3.4  New York, NY  New York, NY   \n",
      "3                            Celerity\\n4.1  New York, NY    McLean, VA   \n",
      "4                             FanDuel\\n3.9  New York, NY  New York, NY   \n",
      "\n",
      "                     Size  Founded               Type of ownership  \\\n",
      "0    201 to 500 employees     1961          Nonprofit Organization   \n",
      "1        10000+ employees     1893          Nonprofit Organization   \n",
      "2  1001 to 5000 employees     2003               Company - Private   \n",
      "3    201 to 500 employees     2002  Subsidiary or Business Segment   \n",
      "4   501 to 1000 employees     2009               Company - Private   \n",
      "\n",
      "                           Industry                            Sector  \\\n",
      "0                 Social Assistance                        Non-Profit   \n",
      "1  Health Care Services & Hospitals                       Health Care   \n",
      "2                          Internet            Information Technology   \n",
      "3                       IT Services            Information Technology   \n",
      "4               Sports & Recreation  Arts, Entertainment & Recreation   \n",
      "\n",
      "                      Revenue Competitors Easy Apply  \n",
      "0  $100 to $500 million (USD)          -1       True  \n",
      "1      $2 to $5 billion (USD)          -1         -1  \n",
      "2    Unknown / Non-Applicable     GoDaddy         -1  \n",
      "3   $50 to $100 million (USD)          -1         -1  \n",
      "4  $100 to $500 million (USD)  DraftKings       True  \n"
     ]
    }
   ],
   "source": [
    "df = pd.read_csv('DataAnalyst.csv')\n",
    "print(df.head())"
   ]
  },
  {
   "cell_type": "code",
   "execution_count": 4,
   "metadata": {},
   "outputs": [
    {
     "name": "stdout",
     "output_type": "stream",
     "text": [
      "Unnamed: 0\n",
      "Job Title\n",
      "Salary Estimate\n",
      "Job Description\n",
      "Rating\n",
      "Company Name\n",
      "Location\n",
      "Headquarters\n",
      "Size\n",
      "Founded\n",
      "Type of ownership\n",
      "Industry\n",
      "Sector\n",
      "Revenue\n",
      "Competitors\n",
      "Easy Apply\n"
     ]
    }
   ],
   "source": [
    "for x in df:\n",
    "    print(x)"
   ]
  },
  {
   "cell_type": "code",
   "execution_count": 5,
   "metadata": {},
   "outputs": [
    {
     "data": {
      "text/plain": [
       "Unnamed: 0             int64\n",
       "Job Title             object\n",
       "Salary Estimate       object\n",
       "Job Description       object\n",
       "Rating               float64\n",
       "Company Name          object\n",
       "Location              object\n",
       "Headquarters          object\n",
       "Size                  object\n",
       "Founded                int64\n",
       "Type of ownership     object\n",
       "Industry              object\n",
       "Sector                object\n",
       "Revenue               object\n",
       "Competitors           object\n",
       "Easy Apply            object\n",
       "dtype: object"
      ]
     },
     "execution_count": 5,
     "metadata": {},
     "output_type": "execute_result"
    }
   ],
   "source": [
    "df.dtypes"
   ]
  },
  {
   "cell_type": "code",
   "execution_count": 7,
   "metadata": {},
   "outputs": [
    {
     "name": "stdout",
     "output_type": "stream",
     "text": [
      "<class 'pandas.core.frame.DataFrame'>\n",
      "RangeIndex: 2253 entries, 0 to 2252\n",
      "Data columns (total 16 columns):\n",
      " #   Column             Non-Null Count  Dtype  \n",
      "---  ------             --------------  -----  \n",
      " 0   Unnamed: 0         2253 non-null   int64  \n",
      " 1   Job Title          2253 non-null   object \n",
      " 2   Salary Estimate    2253 non-null   object \n",
      " 3   Job Description    2253 non-null   object \n",
      " 4   Rating             2253 non-null   float64\n",
      " 5   Company Name       2252 non-null   object \n",
      " 6   Location           2253 non-null   object \n",
      " 7   Headquarters       2253 non-null   object \n",
      " 8   Size               2253 non-null   object \n",
      " 9   Founded            2253 non-null   int64  \n",
      " 10  Type of ownership  2253 non-null   object \n",
      " 11  Industry           2253 non-null   object \n",
      " 12  Sector             2253 non-null   object \n",
      " 13  Revenue            2253 non-null   object \n",
      " 14  Competitors        2253 non-null   object \n",
      " 15  Easy Apply         2253 non-null   object \n",
      "dtypes: float64(1), int64(2), object(13)\n",
      "memory usage: 281.8+ KB\n"
     ]
    }
   ],
   "source": [
    "df.info()"
   ]
  },
  {
   "cell_type": "code",
   "execution_count": 8,
   "metadata": {},
   "outputs": [
    {
     "data": {
      "text/html": [
       "<div>\n",
       "<style scoped>\n",
       "    .dataframe tbody tr th:only-of-type {\n",
       "        vertical-align: middle;\n",
       "    }\n",
       "\n",
       "    .dataframe tbody tr th {\n",
       "        vertical-align: top;\n",
       "    }\n",
       "\n",
       "    .dataframe thead th {\n",
       "        text-align: right;\n",
       "    }\n",
       "</style>\n",
       "<table border=\"1\" class=\"dataframe\">\n",
       "  <thead>\n",
       "    <tr style=\"text-align: right;\">\n",
       "      <th></th>\n",
       "      <th>Unnamed: 0</th>\n",
       "      <th>Rating</th>\n",
       "      <th>Founded</th>\n",
       "    </tr>\n",
       "  </thead>\n",
       "  <tbody>\n",
       "    <tr>\n",
       "      <th>count</th>\n",
       "      <td>2253.0000</td>\n",
       "      <td>2253.000000</td>\n",
       "      <td>2253.000000</td>\n",
       "    </tr>\n",
       "    <tr>\n",
       "      <th>mean</th>\n",
       "      <td>1126.0000</td>\n",
       "      <td>3.160630</td>\n",
       "      <td>1398.522858</td>\n",
       "    </tr>\n",
       "    <tr>\n",
       "      <th>std</th>\n",
       "      <td>650.5294</td>\n",
       "      <td>1.665228</td>\n",
       "      <td>901.929251</td>\n",
       "    </tr>\n",
       "    <tr>\n",
       "      <th>min</th>\n",
       "      <td>0.0000</td>\n",
       "      <td>-1.000000</td>\n",
       "      <td>-1.000000</td>\n",
       "    </tr>\n",
       "    <tr>\n",
       "      <th>25%</th>\n",
       "      <td>563.0000</td>\n",
       "      <td>3.100000</td>\n",
       "      <td>-1.000000</td>\n",
       "    </tr>\n",
       "    <tr>\n",
       "      <th>50%</th>\n",
       "      <td>1126.0000</td>\n",
       "      <td>3.600000</td>\n",
       "      <td>1979.000000</td>\n",
       "    </tr>\n",
       "    <tr>\n",
       "      <th>75%</th>\n",
       "      <td>1689.0000</td>\n",
       "      <td>4.000000</td>\n",
       "      <td>2002.000000</td>\n",
       "    </tr>\n",
       "    <tr>\n",
       "      <th>max</th>\n",
       "      <td>2252.0000</td>\n",
       "      <td>5.000000</td>\n",
       "      <td>2019.000000</td>\n",
       "    </tr>\n",
       "  </tbody>\n",
       "</table>\n",
       "</div>"
      ],
      "text/plain": [
       "       Unnamed: 0       Rating      Founded\n",
       "count   2253.0000  2253.000000  2253.000000\n",
       "mean    1126.0000     3.160630  1398.522858\n",
       "std      650.5294     1.665228   901.929251\n",
       "min        0.0000    -1.000000    -1.000000\n",
       "25%      563.0000     3.100000    -1.000000\n",
       "50%     1126.0000     3.600000  1979.000000\n",
       "75%     1689.0000     4.000000  2002.000000\n",
       "max     2252.0000     5.000000  2019.000000"
      ]
     },
     "execution_count": 8,
     "metadata": {},
     "output_type": "execute_result"
    }
   ],
   "source": [
    "df.describe()"
   ]
  },
  {
   "cell_type": "markdown",
   "metadata": {},
   "source": [
    "### Pruebas y Validaciones. Reconocimiento de la data."
   ]
  },
  {
   "cell_type": "code",
   "execution_count": 10,
   "metadata": {},
   "outputs": [
    {
     "name": "stdout",
     "output_type": "stream",
     "text": [
      "Dataframe el Dataframe: \n",
      "\n",
      "Dataframe para corroborar: \n",
      "\n",
      "      Unnamed: 0  Job Title  Salary Estimate  Job Description  Rating  \\\n",
      "0          False      False            False            False   False   \n",
      "1          False      False            False            False   False   \n",
      "2          False      False            False            False   False   \n",
      "3          False      False            False            False   False   \n",
      "4          False      False            False            False   False   \n",
      "...          ...        ...              ...              ...     ...   \n",
      "2248       False      False            False            False   False   \n",
      "2249       False      False            False            False   False   \n",
      "2250       False      False            False            False   False   \n",
      "2251       False      False            False            False   False   \n",
      "2252       False      False            False            False   False   \n",
      "\n",
      "      Company Name  Location  Headquarters   Size  Founded  Type of ownership  \\\n",
      "0            False     False         False  False    False              False   \n",
      "1            False     False         False  False    False              False   \n",
      "2            False     False         False  False    False              False   \n",
      "3            False     False         False  False    False              False   \n",
      "4            False     False         False  False    False              False   \n",
      "...            ...       ...           ...    ...      ...                ...   \n",
      "2248         False     False         False  False    False              False   \n",
      "2249         False     False         False  False    False              False   \n",
      "2250         False     False         False  False    False              False   \n",
      "2251         False     False         False  False    False              False   \n",
      "2252         False     False         False  False    False              False   \n",
      "\n",
      "      Industry  Sector  Revenue  Competitors  Easy Apply  \n",
      "0        False   False    False        False       False  \n",
      "1        False   False    False        False       False  \n",
      "2        False   False    False        False       False  \n",
      "3        False   False    False        False       False  \n",
      "4        False   False    False        False       False  \n",
      "...        ...     ...      ...          ...         ...  \n",
      "2248     False   False    False        False       False  \n",
      "2249     False   False    False        False       False  \n",
      "2250     False   False    False        False       False  \n",
      "2251     False   False    False        False       False  \n",
      "2252     False   False    False        False       False  \n",
      "\n",
      "[2253 rows x 16 columns]\n"
     ]
    }
   ],
   "source": [
    "#Prueba y validación de valores NaN en df\n",
    "\n",
    "print(\"Dataframe el Dataframe: \\n\")\n",
    "#print(df)\n",
    "\n",
    "df_p_null = df.isnull()\n",
    "print(\"Dataframe para corroborar: \\n\")\n",
    "print(df_p_null)"
   ]
  },
  {
   "cell_type": "code",
   "execution_count": 11,
   "metadata": {},
   "outputs": [
    {
     "name": "stdout",
     "output_type": "stream",
     "text": [
      "NaN presentes es df:True\n",
      "Cantidad total de valores NaN:1\n"
     ]
    }
   ],
   "source": [
    "#Vuelvo a hacer otro tipo de validación para valores NaN en df\n",
    "\n",
    "check_for_any_nan= df.isna().any().any()\n",
    "total_nan_values = df.isna().sum().sum()\n",
    "\n",
    "print(\"NaN presentes es df:\"+str(check_for_any_nan))\n",
    "print (\"Cantidad total de valores NaN:\"+str(total_nan_values))"
   ]
  },
  {
   "cell_type": "code",
   "execution_count": 12,
   "metadata": {},
   "outputs": [
    {
     "data": {
      "text/plain": [
       "Unnamed: 0           0\n",
       "Job Title            0\n",
       "Salary Estimate      0\n",
       "Job Description      0\n",
       "Rating               0\n",
       "Company Name         1\n",
       "Location             0\n",
       "Headquarters         0\n",
       "Size                 0\n",
       "Founded              0\n",
       "Type of ownership    0\n",
       "Industry             0\n",
       "Sector               0\n",
       "Revenue              0\n",
       "Competitors          0\n",
       "Easy Apply           0\n",
       "dtype: int64"
      ]
     },
     "execution_count": 12,
     "metadata": {},
     "output_type": "execute_result"
    }
   ],
   "source": [
    "#Mediante el siguiente código, podemos comprobar donde es que están los valores NaN\n",
    "df.isna().sum()"
   ]
  },
  {
   "cell_type": "markdown",
   "metadata": {},
   "source": [
    "### Exploratory Data Analysis"
   ]
  },
  {
   "cell_type": "markdown",
   "metadata": {},
   "source": [
    "Análisis de los datos de nuestro data set, para hacer primeras aproximaciones sobre los resultados que podamos llegar a tener. Buscar e investigar sobre posibles insights."
   ]
  },
  {
   "cell_type": "markdown",
   "metadata": {},
   "source": [
    "#### Análisis Univariado de los datos"
   ]
  },
  {
   "cell_type": "markdown",
   "metadata": {},
   "source": [
    "##### Location"
   ]
  },
  {
   "cell_type": "code",
   "execution_count": 13,
   "metadata": {},
   "outputs": [
    {
     "data": {
      "text/plain": [
       "count             2253\n",
       "unique             253\n",
       "top       New York, NY\n",
       "freq               310\n",
       "Name: Location, dtype: object"
      ]
     },
     "execution_count": 13,
     "metadata": {},
     "output_type": "execute_result"
    }
   ],
   "source": [
    "df.Location.describe()"
   ]
  },
  {
   "cell_type": "code",
   "execution_count": 14,
   "metadata": {},
   "outputs": [
    {
     "data": {
      "text/plain": [
       "New York, NY          310\n",
       "Chicago, IL           130\n",
       "San Francisco, CA     119\n",
       "Austin, TX             81\n",
       "Los Angeles, CA        80\n",
       "                     ... \n",
       "Inglewood, CA           1\n",
       "American Fork, UT       1\n",
       "Harrison, NY            1\n",
       "Littleton, CO           1\n",
       "East Palo Alto, CA      1\n",
       "Name: Location, Length: 253, dtype: int64"
      ]
     },
     "execution_count": 14,
     "metadata": {},
     "output_type": "execute_result"
    }
   ],
   "source": [
    "df.Location.value_counts()"
   ]
  },
  {
   "cell_type": "code",
   "execution_count": 15,
   "metadata": {},
   "outputs": [
    {
     "data": {
      "text/plain": [
       "New York, NY          13.759432\n",
       "Chicago, IL            5.770084\n",
       "San Francisco, CA      5.281846\n",
       "Austin, TX             3.595206\n",
       "Los Angeles, CA        3.550821\n",
       "                        ...    \n",
       "Inglewood, CA          0.044385\n",
       "American Fork, UT      0.044385\n",
       "Harrison, NY           0.044385\n",
       "Littleton, CO          0.044385\n",
       "East Palo Alto, CA     0.044385\n",
       "Name: Location, Length: 253, dtype: float64"
      ]
     },
     "execution_count": 15,
     "metadata": {},
     "output_type": "execute_result"
    }
   ],
   "source": [
    "count_loc = df['Location'].value_counts()\n",
    "count_loc / len(df.Location) * 100"
   ]
  },
  {
   "cell_type": "code",
   "execution_count": 23,
   "metadata": {},
   "outputs": [
    {
     "data": {
      "text/plain": [
       "<matplotlib.axes._subplots.AxesSubplot at 0x254d9ee5b20>"
      ]
     },
     "execution_count": 23,
     "metadata": {},
     "output_type": "execute_result"
    },
    {
     "data": {
      "image/png": "[encoded data removed]",
      "text/plain": [
       "<Figure size 864x720 with 1 Axes>"
      ]
     },
     "metadata": {
      "needs_background": "light"
     },
     "output_type": "display_data"
    }
   ],
   "source": [
    "plt.figure(figsize=(12,10))\n",
    "sns.countplot(data=df, x=df['Location'])"
   ]
  },
  {
   "cell_type": "markdown",
   "metadata": {},
   "source": [
    "Como no nos sirve este gráfico para Locations, hacemos un split de la data. Vamos a analizar únicamente los estados. "
   ]
  },
  {
   "cell_type": "code",
   "execution_count": 26,
   "metadata": {},
   "outputs": [
    {
     "name": "stdout",
     "output_type": "stream",
     "text": [
      "0       NY\n",
      "1       NY\n",
      "2       NY\n",
      "3       NY\n",
      "4       NY\n",
      "        ..\n",
      "2248    CO\n",
      "2249    CO\n",
      "2250    CO\n",
      "2251    CO\n",
      "2252    CO\n",
      "Name: States, Length: 2253, dtype: object\n"
     ]
    }
   ],
   "source": [
    "df[\"States\"] = df[\"Location\"].str.split(\", \").str[-1]\n",
    "\n",
    "print(df['States'])"
   ]
  },
  {
   "cell_type": "code",
   "execution_count": 27,
   "metadata": {},
   "outputs": [
    {
     "data": {
      "text/plain": [
       "<matplotlib.axes._subplots.AxesSubplot at 0x254cf61fd90>"
      ]
     },
     "execution_count": 27,
     "metadata": {},
     "output_type": "execute_result"
    },
    {
     "data": {
      "image/png": "[encoded data removed]",
      "text/plain": [
       "<Figure size 864x720 with 1 Axes>"
      ]
     },
     "metadata": {
      "needs_background": "light"
     },
     "output_type": "display_data"
    }
   ],
   "source": [
    "plt.figure(figsize=(12,10))\n",
    "sns.countplot(data=df, x=df['States'])"
   ]
  },
  {
   "cell_type": "markdown",
   "metadata": {},
   "source": [
    "Acá ya nos encontramos con un primer insight: Unas celdas de código más arriba, obtuvimos que el valor que más se repetía era el de la Ciudad de Nueva York. En el gráfico (primera columna color rosa), se puede observar como esto es cierto. El problema es que el Estado de California figura con más entradas. Esto significa que, si bien NYC aparece más veces, en el agregado, hay más ciudades de California con anuncios de empleo.   \n",
    "\n",
    "¿Se podría decir que hay más chances de conseguir un trabajo en California que en Nueva York?\n",
    "Nos restan más análisis para poder determinar esto. "
   ]
  }
 ],
 "metadata": {
  "kernelspec": {
   "display_name": "base",
   "language": "python",
   "name": "python3"
  },
  "language_info": {
   "codemirror_mode": {
    "name": "ipython",
    "version": 3
   },
   "file_extension": ".py",
   "mimetype": "text/x-python",
   "name": "python",
   "nbconvert_exporter": "python",
   "pygments_lexer": "ipython3",
   "version": "3.8.3"
  }
 },
 "nbformat": 4,
 "nbformat_minor": 2
}
